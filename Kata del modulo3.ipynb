{
 "cells": [
  {
   "cell_type": "markdown",
   "metadata": {},
   "source": [
    "# Kata del modulo 3\n",
    "por Angel Ramírez Castro\n"
   ]
  },
  {
   "cell_type": "code",
   "execution_count": 3,
   "metadata": {},
   "outputs": [
    {
     "name": "stdout",
     "output_type": "stream",
     "text": [
      "55\n"
     ]
    }
   ],
   "source": [
    "# Tip de práctica 1: Intenta ejecutarlo en un notebook.\n",
    "a = 97\n",
    "b = 55\n",
    "#expresión de prueba\n",
    "if a < b:\n",
    "    #  instrucción a ejecutar\n",
    "    print(b)"
   ]
  },
  {
   "cell_type": "code",
   "execution_count": 4,
   "metadata": {},
   "outputs": [
    {
     "name": "stdout",
     "output_type": "stream",
     "text": [
      "93\n"
     ]
    }
   ],
   "source": [
    "# Aplica el tip de práctica 1.\n",
    "a = 93\n",
    "b = 27\n",
    "if a >= b:\n",
    "    print(a)"
   ]
  },
  {
   "cell_type": "code",
   "execution_count": 6,
   "metadata": {},
   "outputs": [
    {
     "name": "stdout",
     "output_type": "stream",
     "text": [
      "57\n"
     ]
    }
   ],
   "source": [
    "a = 23\n",
    "b = 34\n",
    "if a == 34 or  b == 34:\n",
    "    print (a + b)"
   ]
  },
  {
   "cell_type": "markdown",
   "metadata": {},
   "source": [
    "# Ejercicios"
   ]
  },
  {
   "cell_type": "code",
   "execution_count": 12,
   "metadata": {},
   "outputs": [
    {
     "name": "stdout",
     "output_type": "stream",
     "text": [
      "Ningun asteroide a la vista\n"
     ]
    }
   ],
   "source": [
    "#Ejercicio 1\n",
    "velocidad_asteroide=10\n",
    "\n",
    "if velocidad_asteroide > 25:\n",
    "    print(\"!Advertancia asteriode cerca\")\n",
    "else:\n",
    "    print(\"Ningun asteroide a la vista\")"
   ]
  },
  {
   "cell_type": "code",
   "execution_count": 13,
   "metadata": {},
   "outputs": [
    {
     "name": "stdout",
     "output_type": "stream",
     "text": [
      "Nada que ver, mas que un cielo normal\n"
     ]
    }
   ],
   "source": [
    "#Ejercicio 2\n",
    "velocidad_asteroide=10\n",
    "\n",
    "if velocidad_asteroide > 20:\n",
    "    print(\"Hay una luz magica en el cielo\")\n",
    "elif velocidad_asteroide == 20:\n",
    "    print(\"Hay una luz magica en cielo\")\n",
    "else:\n",
    "    print(\"Nada que ver, mas que un cielo normal\")"
   ]
  },
  {
   "cell_type": "code",
   "execution_count": 17,
   "metadata": {},
   "outputs": [
    {
     "name": "stdout",
     "output_type": "stream",
     "text": [
      "Hay una luz magica en el cielo\n"
     ]
    }
   ],
   "source": [
    "#Ejercicio numero 3\n",
    "#Angel Ramirez Castro\n",
    "velocidad_asteroide=25\n",
    "tamano_asteroide=40\n",
    "\n",
    "if velocidad_asteroide > 25 and tamano_asteroide>=25:\n",
    "    print(\"Advertencia\")\n",
    "elif velocidad_asteroide >= 20:\n",
    "    print(\"Hay una luz magica en el cielo\")\n",
    "elif tamano_asteroide <25:\n",
    "    print(\"Todo correcto\") \n",
    "else:\n",
    "    (\"Ninguna luz brillante\")\n"
   ]
  }
 ],
 "metadata": {
  "interpreter": {
   "hash": "dcf0c23576be9dad6eaef65ab1b66052dc6ac10e2aefff87877477f23c5d9699"
  },
  "kernelspec": {
   "display_name": "Python 3.10.0 64-bit",
   "language": "python",
   "name": "python3"
  },
  "language_info": {
   "codemirror_mode": {
    "name": "ipython",
    "version": 3
   },
   "file_extension": ".py",
   "mimetype": "text/x-python",
   "name": "python",
   "nbconvert_exporter": "python",
   "pygments_lexer": "ipython3",
   "version": "3.10.0"
  },
  "orig_nbformat": 4
 },
 "nbformat": 4,
 "nbformat_minor": 2
}
