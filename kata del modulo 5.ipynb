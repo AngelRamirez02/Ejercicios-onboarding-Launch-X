{
 "cells": [
  {
   "cell_type": "markdown",
   "metadata": {},
   "source": [
    "# kata del modulo 5\n",
    "por: Angel Ramirez Castro\n"
   ]
  },
  {
   "cell_type": "code",
   "execution_count": 5,
   "metadata": {},
   "outputs": [
    {
     "name": "stdout",
     "output_type": "stream",
     "text": [
      "minutos = 17\n",
      "segundos = 22\n"
     ]
    }
   ],
   "source": [
    "#Ejemplo 1\n",
    "seconds = 1042\n",
    "display_minutes = 1042 // 60\n",
    "display_seconds = 1042 % 60\n",
    "\n",
    "print(\"minutos =\",display_minutes)\n",
    "print(\"segundos =\", display_seconds)"
   ]
  },
  {
   "cell_type": "markdown",
   "metadata": {},
   "source": [
    "# Ejercicio"
   ]
  },
  {
   "cell_type": "markdown",
   "metadata": {},
   "source": []
  },
  {
   "cell_type": "code",
   "execution_count": 9,
   "metadata": {},
   "outputs": [
    {
     "name": "stdout",
     "output_type": "stream",
     "text": [
      "La distancia es: -628949.33\n",
      "La distancia en millas es: -390577.53393\n"
     ]
    }
   ],
   "source": [
    "tierra=149597870 \n",
    "jupiter=778547200\n",
    "\n",
    "distancia=tierra-jupiter\n",
    "dis_millas=distancia*0.621\n",
    "\n",
    "print(\"La distancia es:\",distancia)\n",
    "print(\"La distancia en millas es:\",dis_millas)\n"
   ]
  },
  {
   "cell_type": "code",
   "execution_count": 15,
   "metadata": {},
   "outputs": [
    {
     "name": "stdout",
     "output_type": "stream",
     "text": [
      "La distancia es de 2 km\n",
      "La distancia en millas es:  1.242\n"
     ]
    }
   ],
   "source": [
    "firts_planet=input('Introduzca la distancia del sol para el primer planeta en KM')\n",
    "second_planet=input('Introduzca la distancia del sol para el segundo planeta en KM')\n",
    "firts_planet=int(firts_planet)\n",
    "second_planet=int(second_planet)\n",
    "\n",
    "distance_km=firts_planet-second_planet\n",
    "print(\"La distancia es de\", abs(distance_km),\"km\")\n",
    "\n",
    "distance_milla=distance_km*0.621\n",
    "print(\"La distancia en millas es: \",abs(distance_milla))"
   ]
  }
 ],
 "metadata": {
  "interpreter": {
   "hash": "dcf0c23576be9dad6eaef65ab1b66052dc6ac10e2aefff87877477f23c5d9699"
  },
  "kernelspec": {
   "display_name": "Python 3.10.0 64-bit",
   "language": "python",
   "name": "python3"
  },
  "language_info": {
   "codemirror_mode": {
    "name": "ipython",
    "version": 3
   },
   "file_extension": ".py",
   "mimetype": "text/x-python",
   "name": "python",
   "nbconvert_exporter": "python",
   "pygments_lexer": "ipython3",
   "version": "3.10.0"
  },
  "orig_nbformat": 4
 },
 "nbformat": 4,
 "nbformat_minor": 2
}
