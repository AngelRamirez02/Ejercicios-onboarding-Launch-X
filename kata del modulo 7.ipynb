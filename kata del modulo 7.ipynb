{
 "cells": [
  {
   "cell_type": "markdown",
   "metadata": {},
   "source": [
    "# Kata del modulo 7\n",
    "por: Angel Ramirez Castro"
   ]
  },
  {
   "cell_type": "code",
   "execution_count": null,
   "metadata": {},
   "outputs": [],
   "source": [
    "#ejemplo 1 While \n",
    "# Creamos la variable que almacena el texto\n",
    "user_input = ''\n",
    "# Creamos la lista que almacena cada uno de los textos que el usuario ingresa\n",
    "inputs = []\n",
    "\n",
    "# Ciclo while\n",
    "while user_input.lower() != 'done':\n",
    "    # Verificamos si hay un valor en user_input\n",
    "    if user_input:\n",
    "        # Almacenamos ese valor en la lista\n",
    "        inputs.append(user_input)\n",
    "    # Capturamos un nuevo valor\n",
    "    user_input = input('Enter a new value, or done when done')\n"
   ]
  },
  {
   "cell_type": "code",
   "execution_count": null,
   "metadata": {},
   "outputs": [],
   "source": [
    "#ejemplo 2\n",
    "countdown = [4, 3, 2, 1, 0]\n",
    "for number in countdown:\n",
    "    print(number)\n",
    "print(\"Blast off!! 🚀\")"
   ]
  },
  {
   "cell_type": "code",
   "execution_count": null,
   "metadata": {},
   "outputs": [],
   "source": [
    "# De la biblioteca time, importamos (traemos) la clase sleep\n",
    "\n",
    "from time import sleep\n",
    "\n",
    "# Creamos una lista de 5 números llamada countdown\n",
    "countdown = [4, 3, 2, 1, 0]\n",
    "\n",
    "# Para cada número en countdown\n",
    "for number in countdown:\n",
    "    #Muestra el número\n",
    "    print(number)\n",
    "\n",
    "    # Espera (1segundo)\n",
    "    sleep(1)\n",
    "\n",
    "# Muestra el mensaje Blast off\n",
    "print(\"Blast off!! 🚀\")"
   ]
  },
  {
   "cell_type": "markdown",
   "metadata": {},
   "source": [
    "# Ejercicios de la kata numero 7\n"
   ]
  },
  {
   "cell_type": "code",
   "execution_count": 5,
   "metadata": {},
   "outputs": [
    {
     "name": "stdout",
     "output_type": "stream",
     "text": [
      "marte\n",
      "jupiter\n",
      "tierra\n"
     ]
    }
   ],
   "source": [
    "new_planets= ''\n",
    "planets=[]\n",
    "\n",
    "while new_planets.lower()!='done':\n",
    "    #sentencia para comprobar si hay un valor\n",
    "    if new_planets:\n",
    "        planets.append(new_planets)\n",
    "    new_planets=input('Ingresa otro nombre de planeta, o escriba done si ha terminado')\n",
    "\n",
    "for planet in planets:\n",
    "    print(planet)"
   ]
  }
 ],
 "metadata": {
  "interpreter": {
   "hash": "dcf0c23576be9dad6eaef65ab1b66052dc6ac10e2aefff87877477f23c5d9699"
  },
  "kernelspec": {
   "display_name": "Python 3.10.0 64-bit",
   "language": "python",
   "name": "python3"
  },
  "language_info": {
   "codemirror_mode": {
    "name": "ipython",
    "version": 3
   },
   "file_extension": ".py",
   "mimetype": "text/x-python",
   "name": "python",
   "nbconvert_exporter": "python",
   "pygments_lexer": "ipython3",
   "version": "3.10.0"
  },
  "orig_nbformat": 4
 },
 "nbformat": 4,
 "nbformat_minor": 2
}
